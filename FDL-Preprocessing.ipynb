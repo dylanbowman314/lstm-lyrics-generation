{
 "cells": [
  {
   "cell_type": "markdown",
   "id": "0622d169",
   "metadata": {},
   "source": [
    "# Data Pre-processing"
   ]
  },
  {
   "cell_type": "code",
   "execution_count": 1,
   "id": "90083c9f",
   "metadata": {},
   "outputs": [],
   "source": [
    "# Import packages\n",
    "import pandas as pd\n",
    "import re"
   ]
  },
  {
   "cell_type": "code",
   "execution_count": 2,
   "id": "ec0dc1c0",
   "metadata": {},
   "outputs": [
    {
     "name": "stdout",
     "output_type": "stream",
     "text": [
      "rap\n",
      "rb\n",
      "rock\n",
      "pop\n",
      "misc\n",
      "country\n"
     ]
    }
   ],
   "source": [
    "# Import data\n",
    "data = pd.read_csv('lyrics.csv')\n",
    "\n",
    "for tag in data.tag.unique():\n",
    "    print(tag)\n",
    "    k = data.query(f\"tag=='{tag}'\")\n",
    "    k.to_csv(f\"{tag}_data.csv\", encoding='utf-8', index=False)"
   ]
  },
  {
   "cell_type": "code",
   "execution_count": 2,
   "id": "aa70c5dc",
   "metadata": {},
   "outputs": [],
   "source": [
    "# Cleaning data with regular expression\n",
    "\n",
    "def clean(lyrics):\n",
    "    # Replace any notation with square brackets []\n",
    "    j = re.sub(\"\\[.*\\]\", \"\", lyrics.lower())\n",
    "    j = re.sub(\"verse1\", \"\", j)\n",
    "    j = re.sub(\"verse2\", \"\", j)\n",
    "    j = re.sub(\"verse3\", \"\", j)\n",
    "    j = re.sub(\"verse4\", \"\", j)\n",
    "    j = re.sub(\"outro\", \"\", j)\n",
    "    \n",
    "    while len(j) > 0 and j[0] == '\\n':\n",
    "        j = j[1:]\n",
    "        \n",
    "    while \"\\n\\n\" in j:\n",
    "        j = re.sub(\"\\n\\n\", \"\\n\", j)\n",
    "        \n",
    "    j = re.sub('[^0-9a-zA-Z_ \\n]+', '', j)\n",
    "    j = re.sub('\\n', ' \\n ', j)\n",
    "    \n",
    "    return j"
   ]
  },
  {
   "cell_type": "code",
   "execution_count": 4,
   "id": "47f0d1e6",
   "metadata": {},
   "outputs": [],
   "source": [
    "tags = ['rap', 'rb', 'rock', 'pop', 'misc', 'country'] #list(data.tag.unique())\n",
    "\n",
    "# Clean the data and make it into csv file again\n",
    "for tag in tags:\n",
    "    df = pd.read_csv(\"{}_data.csv\".format(tag))\n",
    "    cleaned = [k for k in [clean(l) for l in df.lyrics if type(l) == str] if len(k) > 200]\n",
    "    clean_df = pd.DataFrame(cleaned, columns = ['lyrics'])\n",
    "    clean_df.to_csv(\"{}_data_cleaned.csv\".format(tag), encoding=\"utf-8\", index=False)"
   ]
  },
  {
   "cell_type": "code",
   "execution_count": 5,
   "id": "c9e62a2f",
   "metadata": {},
   "outputs": [
    {
     "data": {
      "text/html": [
       "<div>\n",
       "<style scoped>\n",
       "    .dataframe tbody tr th:only-of-type {\n",
       "        vertical-align: middle;\n",
       "    }\n",
       "\n",
       "    .dataframe tbody tr th {\n",
       "        vertical-align: top;\n",
       "    }\n",
       "\n",
       "    .dataframe thead th {\n",
       "        text-align: right;\n",
       "    }\n",
       "</style>\n",
       "<table border=\"1\" class=\"dataframe\">\n",
       "  <thead>\n",
       "    <tr style=\"text-align: right;\">\n",
       "      <th></th>\n",
       "      <th>lyrics</th>\n",
       "    </tr>\n",
       "  </thead>\n",
       "  <tbody>\n",
       "    <tr>\n",
       "      <th>0</th>\n",
       "      <td>peace up atown down \\n yeah yeah okay okay \\n ...</td>\n",
       "    </tr>\n",
       "    <tr>\n",
       "      <th>1</th>\n",
       "      <td>aaliyah \\n sup baby girl ohhh \\n thought i h...</td>\n",
       "    </tr>\n",
       "    <tr>\n",
       "      <th>2</th>\n",
       "      <td>polow da don \\n its kells \\n haters start your...</td>\n",
       "    </tr>\n",
       "    <tr>\n",
       "      <th>3</th>\n",
       "      <td>damn \\n damn \\n heheheh \\n ugh \\n damn cole wo...</td>\n",
       "    </tr>\n",
       "    <tr>\n",
       "      <th>4</th>\n",
       "      <td>meiple \\n i like to play cheek to cheek \\n two...</td>\n",
       "    </tr>\n",
       "  </tbody>\n",
       "</table>\n",
       "</div>"
      ],
      "text/plain": [
       "                                              lyrics\n",
       "0  peace up atown down \\n yeah yeah okay okay \\n ...\n",
       "1    aaliyah \\n sup baby girl ohhh \\n thought i h...\n",
       "2  polow da don \\n its kells \\n haters start your...\n",
       "3  damn \\n damn \\n heheheh \\n ugh \\n damn cole wo...\n",
       "4  meiple \\n i like to play cheek to cheek \\n two..."
      ]
     },
     "execution_count": 5,
     "metadata": {},
     "output_type": "execute_result"
    }
   ],
   "source": [
    "rb = pd.read_csv(\"rb_data_cleaned.csv\")\n",
    "rb.head()"
   ]
  }
 ],
 "metadata": {
  "kernelspec": {
   "display_name": "Python [conda env:.conda-fdl]",
   "language": "python",
   "name": "conda-env-.conda-fdl-py"
  },
  "language_info": {
   "codemirror_mode": {
    "name": "ipython",
    "version": 3
   },
   "file_extension": ".py",
   "mimetype": "text/x-python",
   "name": "python",
   "nbconvert_exporter": "python",
   "pygments_lexer": "ipython3",
   "version": "3.9.15"
  }
 },
 "nbformat": 4,
 "nbformat_minor": 5
}
