{
 "cells": [
  {
   "cell_type": "markdown",
   "id": "016e1a27",
   "metadata": {},
   "source": [
    "# Pre-Processing Data\n",
    "This notebook takes the large dataset from [this Kaggle repo](https://www.kaggle.com/datasets/nikhilnayak123/5-million-song-lyrics-dataset?resource=download) and extracts the country music data, then standardizes the format and outputs a csv file containing ~100k songs."
   ]
  },
  {
   "cell_type": "markdown",
   "id": "b96007cf",
   "metadata": {},
   "source": [
    "### Import Packages"
   ]
  },
  {
   "cell_type": "code",
   "execution_count": 10,
   "id": "6249fa26",
   "metadata": {},
   "outputs": [],
   "source": [
    "import pandas as pd\n",
    "import re"
   ]
  },
  {
   "cell_type": "markdown",
   "id": "66458d5e",
   "metadata": {},
   "source": [
    "### Import Data"
   ]
  },
  {
   "cell_type": "code",
   "execution_count": 2,
   "id": "afd95f97",
   "metadata": {},
   "outputs": [],
   "source": [
    "data = pd.read_csv('ds2.csv')"
   ]
  },
  {
   "cell_type": "markdown",
   "id": "4dc24e3f",
   "metadata": {},
   "source": [
    "For each tag (rap, rb, rock, pop, misc, country), create a new csv with the data from that tag."
   ]
  },
  {
   "cell_type": "code",
   "execution_count": 7,
   "id": "a29daf45",
   "metadata": {},
   "outputs": [
    {
     "name": "stdout",
     "output_type": "stream",
     "text": [
      "rap\n",
      "rb\n",
      "rock\n",
      "pop\n",
      "misc\n",
      "country\n"
     ]
    }
   ],
   "source": [
    "for tag in data.tag.unique():\n",
    "    print(tag)\n",
    "    k = data.query(f\"tag=='{tag}'\")\n",
    "    k.to_csv(f\"{tag}_data.csv\",encoding='utf-8',index=False)"
   ]
  },
  {
   "cell_type": "markdown",
   "id": "3fde190b",
   "metadata": {},
   "source": [
    "Import the country data."
   ]
  },
  {
   "cell_type": "code",
   "execution_count": 8,
   "id": "7a9717e6",
   "metadata": {},
   "outputs": [
    {
     "data": {
      "text/plain": [
       "0    O Death, where is thy sting?\\nO Grave, where i...\n",
       "1    [Verse 1]\\nThey used to call me lightning\\nI w...\n",
       "2    [Verse 1]\\nYou were in college, working part-t...\n",
       "3    [Verse 1]\\nHe was born in the summer of his 27...\n",
       "4    [Verse 1: Kid Rock]\\nA shimmy shimmy go go mot...\n",
       "Name: lyrics, dtype: object"
      ]
     },
     "execution_count": 8,
     "metadata": {},
     "output_type": "execute_result"
    }
   ],
   "source": [
    "country = pd.read_csv('country_data.csv')"
   ]
  },
  {
   "cell_type": "markdown",
   "id": "46920175",
   "metadata": {},
   "source": [
    "### Cleaning Data\n",
    "\n",
    "First, we define a cleaning function to remove all tags, format as lowercase, and remove all punctuation."
   ]
  },
  {
   "cell_type": "code",
   "execution_count": 81,
   "id": "eb9acfac",
   "metadata": {},
   "outputs": [],
   "source": [
    "def clean(lyrics):\n",
    "    j = re.sub(\"\\[.*\\]\",\"\",lyrics.lower())\n",
    "    j = re.sub(\"verse 1\",\"\",j)\n",
    "    j = re.sub(\"verse 2\",\"\",j)\n",
    "    j = re.sub(\"verse 3\",\"\",j)\n",
    "    j = re.sub(\"verse 4\",\"\",j)\n",
    "    j = re.sub(\"chorus\",\"\",j)\n",
    "    j = re.sub(\"outro\",\"\",j)\n",
    "    while len(j) > 0 and j[0] == '\\n':\n",
    "        j = j[1:]\n",
    "\n",
    "    while\"\\n\\n\" in j:\n",
    "        j = re.sub(\"\\n\\n\",\"\\n\",j)\n",
    "\n",
    "    j = re.sub('[^0-9a-zA-Z_ \\n]+', '', j)\n",
    "    j = re.sub('\\n',' \\n ', j)\n",
    "    return j"
   ]
  },
  {
   "cell_type": "markdown",
   "id": "4e193642",
   "metadata": {},
   "source": [
    "Example of cleaning to make sure it works:"
   ]
  },
  {
   "cell_type": "code",
   "execution_count": 82,
   "id": "25f4c7f6",
   "metadata": {},
   "outputs": [
    {
     "data": {
      "text/plain": [
       "'they used to call me lightning \\n i was always quick to strike \\n had everything i own \\n in the saddles on my bike \\n i had a reputation \\n for never staying very long \\n just like a wild and restless drifter \\n like a cowboy in a song \\n i met a dark haired beauty \\n where they lay the whiskey down \\n in southern arizona \\n in a little border town \\n she had to dance for money \\n in that dusty old saloon \\n i dropped a dollar in the jukebox \\n played that girl a tune yea \\n never see it coming \\n it just hits you by surprise \\n its that cold place in your soul \\n that fire in her eyes \\n makes you come together \\n like wild horses when they run \\n now the cards are on the table and \\n the bullets in the gun \\n she was sitting on my lap \\n we still had shots to kill \\n when a man pulled up \\n who owned the bar \\n in a cadillac deville \\n he grabbed her by her raven hair \\n and threw her on the floor \\n said no free rides for the cowboys \\n that aint what i pay you for no \\n she jumped up and grabbed my pistol \\n stuck it in the fat mans back \\n said open up the safe \\n and put your money in the sack \\n then tied his hands behind him \\n and put a blindfold on his eyes \\n said if youre dumb enough to chase us man \\n youre dumb enough to die \\n never see it coming \\n it just hits you by surprise \\n its that cold place in your soul \\n that fire in her eyes \\n makes you come together \\n like wild horses when they run \\n now the cards are on the table and \\n the bullets in the gun yeah \\n we rode across the border \\n down into mexico \\n when youre running from the law \\n aint that where everybody goes \\n we came to a town \\n with a name i could not spell \\n she gave me what i came for \\n in that mexican motel \\n i woke up to sirens \\n and the sound of running feet \\n there were fifty federales \\n locked and loaded in the street \\n she grabbed my 44 \\n i grabbed the money in the sack \\n she kissed me for the last time \\n and we headed out the back \\n every gun was on us \\n and every heartbeat pounded \\n theres only one thing left to do \\n when they got you all surrounded \\n she fired that old pistol \\n but we didnt stand a prayer \\n money hit the gravel \\n bullets filled the air \\n never see it coming \\n it just hits you by surprise \\n its that cold place in your soul \\n that fire in her eyes \\n makes you come together \\n like wild horses when they run \\n now the cards are on the table and \\n the bullets in the gun \\n bullets in the gun \\n bullets in the gun \\n bullets in the gun'"
      ]
     },
     "execution_count": 82,
     "metadata": {},
     "output_type": "execute_result"
    }
   ],
   "source": [
    "clean(country.lyrics[1])"
   ]
  },
  {
   "cell_type": "code",
   "execution_count": 83,
   "id": "d64f1e43",
   "metadata": {},
   "outputs": [],
   "source": [
    "cleaned = [k for k in [clean(l) for l in country.lyrics if type(l)==str] if len(k) > 200]"
   ]
  },
  {
   "cell_type": "markdown",
   "id": "5806a255",
   "metadata": {},
   "source": [
    "### Export\n",
    "Export our dataframe with utf-8 encoding."
   ]
  },
  {
   "cell_type": "code",
   "execution_count": 84,
   "id": "5df1501c",
   "metadata": {},
   "outputs": [],
   "source": [
    "clean_pd = pd.DataFrame(cleaned)\n",
    "clean_pd.to_csv(\"country_data_cleaned_spaces.csv\",encoding=\"utf-8\",index=False,header=False)"
   ]
  }
 ],
 "metadata": {
  "kernelspec": {
   "display_name": "Python 3.8.12",
   "language": "python",
   "name": "python3"
  },
  "language_info": {
   "codemirror_mode": {
    "name": "ipython",
    "version": 3
   },
   "file_extension": ".py",
   "mimetype": "text/x-python",
   "name": "python",
   "nbconvert_exporter": "python",
   "pygments_lexer": "ipython3",
   "version": "3.8.12"
  },
  "vscode": {
   "interpreter": {
    "hash": "a4b21478bd607cfb1a6db79d6288bd574ef6b2abda95640c674b514910568822"
   }
  }
 },
 "nbformat": 4,
 "nbformat_minor": 5
}
